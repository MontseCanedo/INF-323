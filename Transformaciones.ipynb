{
 "cells": [
  {
   "cell_type": "code",
   "execution_count": 3,
   "metadata": {},
   "outputs": [
    {
     "data": {
      "text/plain": [
       "-1"
      ]
     },
     "execution_count": 3,
     "metadata": {},
     "output_type": "execute_result"
    }
   ],
   "source": [
    "import cv2 as cv\n",
    "import numpy as np\n",
    "\n",
    "img = cv.imread('imagenes/Beyond.jpg')\n",
    "cv.imshow('Ellen', img)\n",
    "\n",
    "# Trasladada\n",
    "def translate(img, x, y):\n",
    "    transMat = np.float32([[1,0,x],[0,1,y]])\n",
    "    dimensiones = (img.shape[1], img.shape[0])\n",
    "    return cv.warpAffine(img, transMat, dimensiones)\n",
    "\n",
    "# -x --> izq\n",
    "# -y --> arr\n",
    "# x --> der\n",
    "# y --> aba\n",
    "\n",
    "trasladada = translate(img, -100, 100)\n",
    "cv.imshow('Trasladada', trasladada)\n",
    "\n",
    "# Rotacion\n",
    "def rotate(img, angle, rotPoint=None):\n",
    "    (height,width) = img.shape[:2]\n",
    "\n",
    "    if rotPoint is None:\n",
    "        rotPoint = (width//2,height//2)\n",
    "    \n",
    "    rotMat = cv.getRotationMatrix2D(rotPoint, angle, 1.0)\n",
    "    dimensiones = (width,height)\n",
    "\n",
    "    return cv.warpAffine(img, rotMat, dimensiones)\n",
    "\n",
    "rotated = rotate(img, -45)\n",
    "cv.imshow('Rotada', rotated)\n",
    "\n",
    "rotated_rotated = rotate(img, -90)\n",
    "cv.imshow('Rotada Rotada', rotated_rotated)\n",
    "\n",
    "# Redimensionada\n",
    "resized = cv.resize(img, (500,500), interpolation=cv.INTER_CUBIC)\n",
    "cv.imshow('Redimensionada', resized)\n",
    "\n",
    "# Voltear\n",
    "flip = cv.flip(img, -1)\n",
    "cv.imshow('Volteada', flip)\n",
    "\n",
    "# Cortada\n",
    "cropped = img[200:400, 300:400]\n",
    "cv.imshow('Cortada', cropped)\n",
    "\n",
    "\n",
    "cv.waitKey(0)"
   ]
  },
  {
   "cell_type": "code",
   "execution_count": null,
   "metadata": {},
   "outputs": [],
   "source": []
  }
 ],
 "metadata": {
  "kernelspec": {
   "display_name": "Python 3",
   "language": "python",
   "name": "python3"
  },
  "language_info": {
   "codemirror_mode": {
    "name": "ipython",
    "version": 3
   },
   "file_extension": ".py",
   "mimetype": "text/x-python",
   "name": "python",
   "nbconvert_exporter": "python",
   "pygments_lexer": "ipython3",
   "version": "3.8.5"
  }
 },
 "nbformat": 4,
 "nbformat_minor": 4
}
