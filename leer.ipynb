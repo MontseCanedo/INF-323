{
 "cells": [
  {
   "cell_type": "markdown",
   "metadata": {},
   "source": [
    "# Leyendo imágenes y vídeos"
   ]
  },
  {
   "cell_type": "code",
   "execution_count": 1,
   "metadata": {},
   "outputs": [],
   "source": [
    "import cv2 as cv"
   ]
  },
  {
   "cell_type": "markdown",
   "metadata": {},
   "source": [
    "### Leyendo imágenes"
   ]
  },
  {
   "cell_type": "code",
   "execution_count": 2,
   "metadata": {},
   "outputs": [
    {
     "data": {
      "text/plain": [
       "-1"
      ]
     },
     "execution_count": 2,
     "metadata": {},
     "output_type": "execute_result"
    }
   ],
   "source": [
    "#lee la imagen usando el método imread de opencv para transformarla en una matriz y la guarda en la variable \"img\"\n",
    "img = cv.imread('imagenes/Beyond.jpg')\n",
    "\n",
    "#el método imshow muestra la imagen en una nueva ventana, necesita dos parámetros: el nombre de la ventana y la variable\n",
    "cv.imshow('Beyond_two_Souls', img)\n",
    "\n",
    "#el metodo waitKey espera un determinado tiempo de milisegundos para cerrar la ventana presionando una tecla cualquiera\n",
    "cv.waitKey(0)"
   ]
  },
  {
   "cell_type": "markdown",
   "metadata": {},
   "source": [
    "### Leyendo vídeos"
   ]
  },
  {
   "cell_type": "code",
   "execution_count": 3,
   "metadata": {},
   "outputs": [],
   "source": [
    "#instancia la ruta donde se encuentra el video y la guarda en la variable\n",
    "captura = cv.VideoCapture('videos/auto.mp4') #pueden ir numeros del 0 al 2\n",
    "\n",
    "#se crea un ciclo para poder visualizar el vídeo\n",
    "while(True):\n",
    "    isTrue, frame = captura.read() #mientras sea verdadero lee el video frame por frame\n",
    "    cv.imshow('Video', frame) #muestra cada frame del video en la ventana\n",
    "    if cv.waitKey(20) & 0xFF==ord('d'):\n",
    "        break #rompe el ciclo\n",
    "captura.release() #puntero\n",
    "cv.destroyAllWindows() #destruye la ventana desplegada"
   ]
  },
  {
   "cell_type": "markdown",
   "metadata": {},
   "source": [
    "# Redimesionar y reescalar imágenes"
   ]
  },
  {
   "cell_type": "code",
   "execution_count": 4,
   "metadata": {},
   "outputs": [],
   "source": [
    "def rescalarFrame(frame2, scale = 0.75):#este es el valor por defecto\n",
    "    #funciona con imágenes, vídeos y live vídeos\n",
    "    ancho = int(frame2.shape[1] * scale) #el 1 se refiere al ancho de la imagen\n",
    "    alto = int(frame2.shape[0] * scale) #el 0 se refiere al alto de la imagen\n",
    "    dimensiones = (ancho, alto)\n",
    "    return cv.resize(frame2, dimensiones, interpolation = cv.INTER_AREA) #redimensiona el video en una determinada dimension\n",
    "\n",
    "\n",
    "captura2 = cv.VideoCapture('videos/auto.mp4')\n",
    "while(True):\n",
    "    isTrue, frame2 = captura2.read()\n",
    "    #if isTrue:\n",
    "    #assert not isinstance(frame2,type(None)), 'frame not found'\n",
    "    frameRedimensionado = rescalarFrame(frame2)\n",
    "    cv.imshow('Video', frameRedimensionado)\n",
    "    if cv.waitKey(20) & 0xFF==ord('d'):\n",
    "        break\n",
    "captura2.release()\n",
    "cv.destroyAllWindows()"
   ]
  },
  {
   "cell_type": "code",
   "execution_count": null,
   "metadata": {},
   "outputs": [],
   "source": [
    "def cambiarRes(ancho, alto):\n",
    "    #funciona solo con live videos\n",
    "    captura2.set(3, ancho)\n",
    "    captura2.set(4, alto)"
   ]
  },
  {
   "cell_type": "code",
   "execution_count": null,
   "metadata": {},
   "outputs": [],
   "source": []
  }
 ],
 "metadata": {
  "kernelspec": {
   "display_name": "Python 3",
   "language": "python",
   "name": "python3"
  },
  "language_info": {
   "codemirror_mode": {
    "name": "ipython",
    "version": 3
   },
   "file_extension": ".py",
   "mimetype": "text/x-python",
   "name": "python",
   "nbconvert_exporter": "python",
   "pygments_lexer": "ipython3",
   "version": "3.8.5"
  }
 },
 "nbformat": 4,
 "nbformat_minor": 4
}
