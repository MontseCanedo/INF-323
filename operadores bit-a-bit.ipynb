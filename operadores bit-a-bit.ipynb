{
 "cells": [
  {
   "cell_type": "code",
   "execution_count": 2,
   "metadata": {},
   "outputs": [],
   "source": [
    "import cv2 as cv\n",
    "import numpy as np"
   ]
  },
  {
   "cell_type": "code",
   "execution_count": 9,
   "metadata": {},
   "outputs": [
    {
     "data": {
      "text/plain": [
       "-1"
      ]
     },
     "execution_count": 9,
     "metadata": {},
     "output_type": "execute_result"
    }
   ],
   "source": [
    "blanca = np.zeros((400, 400), dtype='uint8')\n",
    "\n",
    "rectangulo = cv.rectangle(blanca.copy(), (30, 30), (370, 370), 255, -1)\n",
    "circulo = cv.circle(blanca.copy(), (200, 200), 200, 255, -1)\n",
    "\n",
    "cv.imshow('Rectangulo', rectangulo)\n",
    "cv.imshow('Circulo', circulo)\n",
    "\n",
    "#bitwise AND\n",
    "bitwise_and = cv.bitwise_and(rectangulo, circulo)\n",
    "cv.imshow('Bitwise AND', bitwise_and)\n",
    "\n",
    "#bitwise OR\n",
    "bitwise_or = cv.bitwise_or(rectangulo, circulo)\n",
    "cv.imshow('Bitwise OR', bitwise_or)\n",
    "\n",
    "#bitwise XOR\n",
    "bitwise_xor = cv.bitwise_xor(rectangulo, circulo)\n",
    "cv.imshow('Bistwise XOR', bitwise_xor)\n",
    "\n",
    "#bitwise NOT\n",
    "bitwise_not = cv.bitwise_not(rectangulo)\n",
    "cv.imshow('Rectangulo NOT', bitwise_not)\n",
    "bitwise_not2 = cv.bitwise_not(circulo)\n",
    "cv.imshow('Circulo NOT', bitwise_not2)\n",
    "\n",
    "cv.waitKey(0)"
   ]
  },
  {
   "cell_type": "code",
   "execution_count": null,
   "metadata": {},
   "outputs": [],
   "source": []
  }
 ],
 "metadata": {
  "kernelspec": {
   "display_name": "Python 3",
   "language": "python",
   "name": "python3"
  },
  "language_info": {
   "codemirror_mode": {
    "name": "ipython",
    "version": 3
   },
   "file_extension": ".py",
   "mimetype": "text/x-python",
   "name": "python",
   "nbconvert_exporter": "python",
   "pygments_lexer": "ipython3",
   "version": "3.8.5"
  }
 },
 "nbformat": 4,
 "nbformat_minor": 4
}
