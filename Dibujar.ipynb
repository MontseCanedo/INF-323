{
 "cells": [
  {
   "cell_type": "markdown",
   "metadata": {},
   "source": [
    "# Dibujando formas o imágenes"
   ]
  },
  {
   "cell_type": "code",
   "execution_count": 1,
   "metadata": {},
   "outputs": [],
   "source": [
    "import cv2 as cv\n",
    "import numpy as np"
   ]
  },
  {
   "cell_type": "code",
   "execution_count": 2,
   "metadata": {},
   "outputs": [
    {
     "data": {
      "text/plain": [
       "-1"
      ]
     },
     "execution_count": 2,
     "metadata": {},
     "output_type": "execute_result"
    }
   ],
   "source": [
    "blanca = np.zeros((500, 500, 3), dtype = 'uint8') #tipo de imagen en blanco (ancho,alto,numero del color)\n",
    "cv.imshow('Lienzo', blanca)\n",
    "\n",
    "#pintando la imagen de cierto color\n",
    "blanca[:] = 0, 255, 0 #codigo rgb del color que quieres\n",
    "cv.imshow('Verde', blanca)\n",
    "\n",
    "cv. waitKey(0)"
   ]
  },
  {
   "cell_type": "markdown",
   "metadata": {},
   "source": [
    "## Dibujando un cuadrado"
   ]
  },
  {
   "cell_type": "code",
   "execution_count": 3,
   "metadata": {},
   "outputs": [
    {
     "data": {
      "text/plain": [
       "-1"
      ]
     },
     "execution_count": 3,
     "metadata": {},
     "output_type": "execute_result"
    }
   ],
   "source": [
    "blanca2 = np.zeros((500, 500, 3), dtype = 'uint8')\n",
    "blanca2[200:300, 300:400] = 0, 255, 0 #codigo rgb del color que quieres\n",
    "cv.imshow('Cuadrado', blanca2)\n",
    "\n",
    "cv. waitKey(0)"
   ]
  },
  {
   "cell_type": "markdown",
   "metadata": {},
   "source": [
    "## Dibujando un rectángulo"
   ]
  },
  {
   "cell_type": "code",
   "execution_count": 5,
   "metadata": {},
   "outputs": [
    {
     "data": {
      "text/plain": [
       "-1"
      ]
     },
     "execution_count": 5,
     "metadata": {},
     "output_type": "execute_result"
    }
   ],
   "source": [
    "blanca = np.zeros((500, 500, 3), dtype = 'uint8')\n",
    "cv.rectangle(blanca, (0, 0), (100, 200), (255, 0, 0), thickness = -1) #cv.FILLED O -1\n",
    "cv.imshow('Rectangulo', blanca)\n",
    "cv. waitKey(0)"
   ]
  },
  {
   "cell_type": "markdown",
   "metadata": {},
   "source": [
    "## Dibujando un círculo"
   ]
  },
  {
   "cell_type": "code",
   "execution_count": 6,
   "metadata": {},
   "outputs": [
    {
     "data": {
      "text/plain": [
       "-1"
      ]
     },
     "execution_count": 6,
     "metadata": {},
     "output_type": "execute_result"
    }
   ],
   "source": [
    "blanca = np.zeros((500, 500, 3), dtype = 'uint8')\n",
    "cv.circle(blanca, (blanca.shape[1]//2, blanca.shape[0]//2), 60, (0, 0, 255), thickness=-1)\n",
    "cv.imshow('Circulo', blanca)\n",
    "cv. waitKey(0)"
   ]
  },
  {
   "cell_type": "markdown",
   "metadata": {},
   "source": [
    "## Dibujando una línea"
   ]
  },
  {
   "cell_type": "code",
   "execution_count": 8,
   "metadata": {},
   "outputs": [
    {
     "data": {
      "text/plain": [
       "-1"
      ]
     },
     "execution_count": 8,
     "metadata": {},
     "output_type": "execute_result"
    }
   ],
   "source": [
    "blanca = np.zeros((500, 500, 3), dtype = 'uint8')\n",
    "cv.line(blanca, (0, 0), (blanca.shape[1]//2, blanca.shape[0]//2), (255, 255, 255), thickness=3)\n",
    "cv.line(blanca, (100, 250), (300, 400), (255, 0, 240), thickness=3)\n",
    "cv.imshow('Linea', blanca)\n",
    "cv. waitKey(0)"
   ]
  },
  {
   "cell_type": "markdown",
   "metadata": {},
   "source": [
    "## Escribiendo texto"
   ]
  },
  {
   "cell_type": "code",
   "execution_count": 9,
   "metadata": {},
   "outputs": [
    {
     "data": {
      "text/plain": [
       "-1"
      ]
     },
     "execution_count": 9,
     "metadata": {},
     "output_type": "execute_result"
    }
   ],
   "source": [
    "blanca = np.zeros((500, 500, 3), dtype = 'uint8')\n",
    "cv.putText(blanca, 'Hola Mundo, yo soy Montserrat', (0, 255), cv.FONT_HERSHEY_DUPLEX, 1.0, (150, 250, 50), 2)\n",
    "cv.imshow('Texto', blanca)\n",
    "cv. waitKey(0)"
   ]
  },
  {
   "cell_type": "code",
   "execution_count": null,
   "metadata": {},
   "outputs": [],
   "source": []
  }
 ],
 "metadata": {
  "kernelspec": {
   "display_name": "Python 3",
   "language": "python",
   "name": "python3"
  },
  "language_info": {
   "codemirror_mode": {
    "name": "ipython",
    "version": 3
   },
   "file_extension": ".py",
   "mimetype": "text/x-python",
   "name": "python",
   "nbconvert_exporter": "python",
   "pygments_lexer": "ipython3",
   "version": "3.8.5"
  }
 },
 "nbformat": 4,
 "nbformat_minor": 4
}
